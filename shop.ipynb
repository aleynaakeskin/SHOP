{
 "cells": [
  {
   "cell_type": "code",
   "execution_count": null,
   "id": "d9938ed6-b945-4645-a21b-df96defdc70c",
   "metadata": {},
   "outputs": [
    {
     "name": "stdin",
     "output_type": "stream",
     "text": [
      "===(Ü)rün Seç (S)epet Görüntüle (E)kle (Y)ardım (Ç)ıkış=== Ü\n"
     ]
    },
    {
     "name": "stdout",
     "output_type": "stream",
     "text": [
      "\n",
      "Ürün Listesi: \n",
      "1.Allık-1500TL\n",
      "2.Gloss-1200TL\n",
      "3.Aydınlatıcı-1500TL\n",
      "4.Kapatıcı-1550TL\n",
      "5.Maskara-1800TL\n"
     ]
    },
    {
     "name": "stdin",
     "output_type": "stream",
     "text": [
      "Ürün ID'sini giriniz:  1\n",
      "Allık miktarını girin:  3\n"
     ]
    },
    {
     "name": "stdout",
     "output_type": "stream",
     "text": [
      "3 adet Allık sepete eklendi.\n"
     ]
    },
    {
     "name": "stdin",
     "output_type": "stream",
     "text": [
      "===(Ü)rün Seç (S)epet Görüntüle (E)kle (Y)ardım (Ç)ıkış=== S\n"
     ]
    },
    {
     "name": "stdout",
     "output_type": "stream",
     "text": [
      "\n",
      "Sepetinizdeki Ürünler\n",
      "Allık: 3 adet - Toplam:4500 TL\n",
      "Toplam Tutar: 4500.0 TL\n"
     ]
    },
    {
     "name": "stdin",
     "output_type": "stream",
     "text": [
      "===(Ü)rün Seç (S)epet Görüntüle (E)kle (Y)ardım (Ç)ıkış=== Y\n"
     ]
    },
    {
     "name": "stdout",
     "output_type": "stream",
     "text": [
      "Ürün seçin: Ürün listesinden seçim yapın.\n",
      "Sepet görüntüleme: Sepetinizi görüntüler.\n",
      "ürün ekleme: Yeni ürün ekler.\n",
      "Yardım alma: Yardım menüsü görüntüler.\n",
      "Programdan çıkış: Programdan çıkar.\n"
     ]
    }
   ],
   "source": [
    "urunler={\n",
    "    1:(\"Allık\",1500),\n",
    "    2:(\"Gloss\",1200),\n",
    "    3:(\"Aydınlatıcı\",1500),\n",
    "    4:(\"Kapatıcı\",1550),\n",
    "    5:(\"Maskara\",1800)\n",
    "}\n",
    "\n",
    "def yardim():\n",
    "    print(\"Ürün seçin: Ürün listesinden seçim yapın.\")\n",
    "    print(\"Sepet görüntüleme: Sepetinizi görüntüler.\")\n",
    "    print(\"ürün ekleme: Yeni ürün ekler.\")\n",
    "    print(\"Yardım alma: Yardım menüsü görüntüler.\")\n",
    "    print(\"Programdan çıkış: Programdan çıkar.\")\n",
    "def menu():\n",
    "    return input(\"===(Ü)rün Seç (S)epet Görüntüle (E)kle (Y)ardım (Ç)ıkış===\").strip().upper()\n",
    "def urun_listesi():\n",
    "    print(\"\\nÜrün Listesi: \")\n",
    "    for key,(isim,fiyat)in urunler.items():\n",
    "        print(f\"{key}.{isim}-{fiyat}TL\")\n",
    "def urun_ekle():\n",
    "    yeni_id=max(urunler.keys())+1\n",
    "    isim=input (\"Yeni ürün adı: \")\n",
    "    fiyat=float(input(f\"{isim} fiyatı (TL): \"))\n",
    "    urunler[yeni_id]=(isim,fiyat)\n",
    "    print(f\"{isim} ürün listeye eklendi. Fiyat: {fiyat} TL\")\n",
    "def toplam_tutar_hesapla(sepet):\n",
    "    toplam=0.0\n",
    "    for urun_id, miktar in sepet.items():\n",
    "        fiyat=urunler[urun_id][1]\n",
    "        toplam +=fiyat*miktar\n",
    "    return toplam\n",
    "def main():\n",
    "    sepet={}\n",
    "    while True:\n",
    "        secim=menu()\n",
    "\n",
    "        if secim==\"Ü\":\n",
    "            urun_listesi()\n",
    "            try:\n",
    "                urun_id=int(input(\"Ürün ID'sini giriniz: \"))\n",
    "                if urun_id in urunler:\n",
    "                    miktar=int(input(f\"{urunler[urun_id][0]} miktarını girin: \"))\n",
    "                    if urun_id in sepet:\n",
    "                        sepet[urun_id]+=miktar\n",
    "                    else:\n",
    "                        sepet[urun_id]=miktar\n",
    "                    print(f\"{miktar} adet {urunler[urun_id][0]} sepete eklendi.\")\n",
    "                else:\n",
    "                    print(\"Geçersiz Ürün ID'si.\")\n",
    "            except ValueError:\n",
    "                print(\"Lütfen geçerli bir ürün ve ID'si girin.\")\n",
    "        elif secim==\"S\":\n",
    "            if sepet:\n",
    "                print(\"\\nSepetinizdeki Ürünler\")\n",
    "                for urun_id, miktar in sepet.items():\n",
    "                    urun_adi=urunler[urun_id][0]\n",
    "                    fiyat=urunler[urun_id][1]\n",
    "                    print(f\"{urun_adi}: {miktar} adet - Toplam:{fiyat*miktar} TL\")\n",
    "                print(f\"Toplam Tutar: {toplam_tutar_hesapla(sepet)} TL\")\n",
    "            else:\n",
    "                print(\"Sepetiniz boş.\")\n",
    "\n",
    "        elif secim==\"E\":\n",
    "            urun_ekle()\n",
    "        elif secim==\"Y\":\n",
    "            yardim()\n",
    "        elif secim==\"Ç\":\n",
    "            print(\"Market Programından Çıkılıyor...\")\n",
    "            break\n",
    "\n",
    "        else:\n",
    "            print(\"Geçersiz seçim lütfen geçerli bir işlem seçin.\")\n",
    "\n",
    "\n",
    "if __name__==\"__main__\":\n",
    "    main()\n",
    "    "
   ]
  },
  {
   "cell_type": "code",
   "execution_count": null,
   "id": "1aa6d3ba-319a-4d4b-8424-5b1913824c6a",
   "metadata": {},
   "outputs": [],
   "source": []
  }
 ],
 "metadata": {
  "kernelspec": {
   "display_name": "Python 3 (ipykernel)",
   "language": "python",
   "name": "python3"
  },
  "language_info": {
   "codemirror_mode": {
    "name": "ipython",
    "version": 3
   },
   "file_extension": ".py",
   "mimetype": "text/x-python",
   "name": "python",
   "nbconvert_exporter": "python",
   "pygments_lexer": "ipython3",
   "version": "3.12.4"
  }
 },
 "nbformat": 4,
 "nbformat_minor": 5
}
